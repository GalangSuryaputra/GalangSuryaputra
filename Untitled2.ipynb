{
  "nbformat": 4,
  "nbformat_minor": 0,
  "metadata": {
    "colab": {
      "name": "Untitled2.ipynb",
      "provenance": [],
      "authorship_tag": "ABX9TyMdmM4TCBjUgTY2jRcqHG+c",
      "include_colab_link": true
    },
    "kernelspec": {
      "name": "python3",
      "display_name": "Python 3"
    }
  },
  "cells": [
    {
      "cell_type": "markdown",
      "metadata": {
        "id": "view-in-github",
        "colab_type": "text"
      },
      "source": [
        "<a href=\"https://colab.research.google.com/github/GalangSuryaputra/GalangSuryaputra/blob/main/Untitled2.ipynb\" target=\"_parent\"><img src=\"https://colab.research.google.com/assets/colab-badge.svg\" alt=\"Open In Colab\"/></a>"
      ]
    },
    {
      "cell_type": "code",
      "metadata": {
        "id": "JvNXIW_0GCuq",
        "outputId": "c5b96084-70d2-41af-9e22-38fe928c84ea",
        "colab": {
          "base_uri": "https://localhost:8080/",
          "height": 34
        }
      },
      "source": [
        "thisdict = {\n",
        "    \"brand\" : \"Toyota\",\n",
        "    \"model\" : \"Kijang\",\n",
        "    \"year\" : 2004\n",
        "}\n",
        "print(thisdict)"
      ],
      "execution_count": 2,
      "outputs": [
        {
          "output_type": "stream",
          "text": [
            "{'brand': 'Toyota', 'model': 'Kijang', 'year': 2004}\n"
          ],
          "name": "stdout"
        }
      ]
    },
    {
      "cell_type": "markdown",
      "metadata": {
        "id": "OubSLDlv8Pdv"
      },
      "source": [
        "# Loop Melalui Dictionary\n",
        "\n",
        "Pada bagian Pengulangan melalui Dictionary, kita dapat melakukan Loop(Pengulangan) melalui Dictionary dengan menggunakan **for** loop.\n",
        "\n",
        "Saat melakukan pengulangan melalui Dictionary, nilai yang dikembalikan adalah kunci dari Dictionary, tetapi terdapat metode untuk mengembalikan nilai\n",
        "\n",
        "Sebagai contoh :\n",
        "Print semua nama kunci dalam Dictionary satu per satu"
      ]
    },
    {
      "cell_type": "code",
      "metadata": {
        "id": "otQe0hz0AEFr",
        "outputId": "3bb20fb5-c89b-48ad-eb53-a3e5e4da82b5",
        "colab": {
          "base_uri": "https://localhost:8080/",
          "height": 67
        }
      },
      "source": [
        "for x in thisdict:\n",
        "  print(x)"
      ],
      "execution_count": 3,
      "outputs": [
        {
          "output_type": "stream",
          "text": [
            "brand\n",
            "model\n",
            "year\n"
          ],
          "name": "stdout"
        }
      ]
    },
    {
      "cell_type": "markdown",
      "metadata": {
        "id": "aIfG0Z52AQ5_"
      },
      "source": [
        "# Contoh\n",
        "Print semua *nilai* dalam Dictionary satu per satu"
      ]
    },
    {
      "cell_type": "code",
      "metadata": {
        "id": "wtbLOQXuA4ki",
        "outputId": "5cb60926-c911-44a3-e7b8-2cf9b5f6c358",
        "colab": {
          "base_uri": "https://localhost:8080/",
          "height": 67
        }
      },
      "source": [
        "for x in thisdict:\n",
        "  print(thisdict[x])"
      ],
      "execution_count": 4,
      "outputs": [
        {
          "output_type": "stream",
          "text": [
            "Toyota\n",
            "Kijang\n",
            "2004\n"
          ],
          "name": "stdout"
        }
      ]
    },
    {
      "cell_type": "markdown",
      "metadata": {
        "id": "qmkW_LgrBKZi"
      },
      "source": [
        "# Contoh\n",
        "Kita juga dapat menggunakan **values()** yang merupakan metode untuk mengembalikan nilai Dictionary"
      ]
    },
    {
      "cell_type": "code",
      "metadata": {
        "id": "vffEtnHXCUMu",
        "outputId": "3f4166f5-917e-4728-a501-9aaf8aad7fc4",
        "colab": {
          "base_uri": "https://localhost:8080/",
          "height": 67
        }
      },
      "source": [
        "for x in thisdict.values():\n",
        "  print(x)"
      ],
      "execution_count": 6,
      "outputs": [
        {
          "output_type": "stream",
          "text": [
            "Toyota\n",
            "Kijang\n",
            "2004\n"
          ],
          "name": "stdout"
        }
      ]
    },
    {
      "cell_type": "markdown",
      "metadata": {
        "id": "YocZ-WFDBKWD"
      },
      "source": [
        "# Contoh\n",
        "Ulangi kedua kunci dan nilai, dengan menggunakan metode **items()**:"
      ]
    },
    {
      "cell_type": "code",
      "metadata": {
        "id": "apkbYkyHDLZI",
        "outputId": "9a2cf22d-77a2-463e-846c-485c06e62164",
        "colab": {
          "base_uri": "https://localhost:8080/",
          "height": 67
        }
      },
      "source": [
        "for x, y in thisdict.items():\n",
        "  print(x, y)"
      ],
      "execution_count": 7,
      "outputs": [
        {
          "output_type": "stream",
          "text": [
            "brand Toyota\n",
            "model Kijang\n",
            "year 2004\n"
          ],
          "name": "stdout"
        }
      ]
    },
    {
      "cell_type": "markdown",
      "metadata": {
        "id": "hlMOTHpS-DRC"
      },
      "source": [
        "# Cek jika terdapat kunci\n",
        "Untuk menentukan apakah kunci tertentu ada dalam Dictionary gunakan **in** sebagai kunci"
      ]
    },
    {
      "cell_type": "markdown",
      "metadata": {
        "id": "MDCs8AYyFDph"
      },
      "source": [
        "# Contoh\n",
        "Cek jika \"model\" terdapat pada Dictionary"
      ]
    },
    {
      "cell_type": "code",
      "metadata": {
        "id": "MNBXRsnwFZJP",
        "outputId": "d1c3ebe9-da15-400f-b8b7-e9daf607513d",
        "colab": {
          "base_uri": "https://localhost:8080/",
          "height": 34
        }
      },
      "source": [
        "thisdict = {\n",
        "    \"brand\" : \"Toyota\",\n",
        "    \"model\" : \"Kijang\",\n",
        "    \"tahun\" : 2004\n",
        "}\n",
        "if \"model\" in thisdict :\n",
        "  print(\"Yes, 'model' adalah salah satu dari kunci dalam distict dictionary\")"
      ],
      "execution_count": 9,
      "outputs": [
        {
          "output_type": "stream",
          "text": [
            "Yes, 'model' adalah salah satu dari kunci dalam distict dictionary\n"
          ],
          "name": "stdout"
        }
      ]
    },
    {
      "cell_type": "markdown",
      "metadata": {
        "id": "dXh27l7e-2jb"
      },
      "source": [
        "# Panjang Dictionary\n",
        "Untuk menentukan berapa panjang item (Pasangan Nilai Kunci) yang dimiliki dictionary, gunakan fungsi **len()**"
      ]
    },
    {
      "cell_type": "markdown",
      "metadata": {
        "id": "flPEls-wHgnT"
      },
      "source": [
        "# Contoh\n",
        "Print angka dari item dalam Dictionary"
      ]
    },
    {
      "cell_type": "code",
      "metadata": {
        "id": "bdlUQ6qdHu2i",
        "outputId": "f0f997ea-31c0-4c1c-a1a2-937a157caaab",
        "colab": {
          "base_uri": "https://localhost:8080/",
          "height": 34
        }
      },
      "source": [
        "print(len(thisdict))"
      ],
      "execution_count": 10,
      "outputs": [
        {
          "output_type": "stream",
          "text": [
            "3\n"
          ],
          "name": "stdout"
        }
      ]
    }
  ]
}